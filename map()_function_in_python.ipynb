{
  "nbformat": 4,
  "nbformat_minor": 0,
  "metadata": {
    "colab": {
      "provenance": [],
      "authorship_tag": "ABX9TyPohjFOkGJNvDnA2KSRw/ef"
    },
    "kernelspec": {
      "name": "python3",
      "display_name": "Python 3"
    },
    "language_info": {
      "name": "python"
    }
  },
  "cells": [
    {
      "cell_type": "code",
      "execution_count": null,
      "metadata": {
        "colab": {
          "base_uri": "https://localhost:8080/"
        },
        "id": "_c3_6TVN6Us6",
        "outputId": "e9b6823c-8de1-4e01-b591-c144434e9665"
      },
      "outputs": [
        {
          "name": "stdout",
          "output_type": "stream",
          "text": [
            "10 20 30 40 50\n"
          ]
        }
      ],
      "source": [
        "a = input()"
      ]
    },
    {
      "cell_type": "code",
      "source": [
        "b = a.split()\n",
        "b"
      ],
      "metadata": {
        "colab": {
          "base_uri": "https://localhost:8080/"
        },
        "id": "CbyKcYkQ8Rjh",
        "outputId": "8e9552ba-d42f-492c-a8d3-3a2a8dd746ae"
      },
      "execution_count": null,
      "outputs": [
        {
          "output_type": "execute_result",
          "data": {
            "text/plain": [
              "['10', '20', '30', '40', '50']"
            ]
          },
          "metadata": {},
          "execution_count": 102
        }
      ]
    },
    {
      "cell_type": "code",
      "source": [
        "type(a[0])"
      ],
      "metadata": {
        "colab": {
          "base_uri": "https://localhost:8080/"
        },
        "id": "xassFGpU9Pqr",
        "outputId": "ea00354a-6730-4532-a38c-7263006adce2"
      },
      "execution_count": null,
      "outputs": [
        {
          "output_type": "execute_result",
          "data": {
            "text/plain": [
              "str"
            ]
          },
          "metadata": {},
          "execution_count": 103
        }
      ]
    },
    {
      "cell_type": "code",
      "source": [
        "# Say, we need to take all the inputs together at a time (like the way we have taken in the first code block) and \n",
        "# convert them into integer (since by default they are in string type). Also, we may wish to store them in data\n",
        "# structures like an array.\n",
        "# the easiest way we can do all these together is by using map() function in python. "
      ],
      "metadata": {
        "id": "oyhcarjG8VZW"
      },
      "execution_count": null,
      "outputs": []
    },
    {
      "cell_type": "code",
      "source": [
        "# map() --> the first parameter dictates the data type we want to map in.\n",
        "#       --> the second parameter given in the iterator we want to iterate in."
      ],
      "metadata": {
        "id": "WSxzDCH_9Vj7"
      },
      "execution_count": null,
      "outputs": []
    },
    {
      "cell_type": "code",
      "source": [
        "c = list(map(int,b))\n",
        "c"
      ],
      "metadata": {
        "colab": {
          "base_uri": "https://localhost:8080/"
        },
        "id": "QJAADnur93c0",
        "outputId": "e5808ef9-4a58-4656-9344-6fbadf675d65"
      },
      "execution_count": null,
      "outputs": [
        {
          "output_type": "execute_result",
          "data": {
            "text/plain": [
              "[10, 20, 30, 40, 50]"
            ]
          },
          "metadata": {},
          "execution_count": 106
        }
      ]
    },
    {
      "cell_type": "code",
      "source": [
        "type(c[0])"
      ],
      "metadata": {
        "colab": {
          "base_uri": "https://localhost:8080/"
        },
        "id": "rGp-PD4j-s95",
        "outputId": "70435e17-dee5-4013-c775-d2f4821638a3"
      },
      "execution_count": null,
      "outputs": [
        {
          "output_type": "execute_result",
          "data": {
            "text/plain": [
              "int"
            ]
          },
          "metadata": {},
          "execution_count": 107
        }
      ]
    },
    {
      "cell_type": "code",
      "source": [
        "# Now, we instead of integer we want to take float values. So, in the first parameter of map function we will pass \n",
        "# data type as float.\n",
        "d = list(map(float, b))\n",
        "d"
      ],
      "metadata": {
        "colab": {
          "base_uri": "https://localhost:8080/"
        },
        "id": "p0E-ANib_Ju0",
        "outputId": "348d984d-c254-49d0-9b2b-87cecd6ba4bb"
      },
      "execution_count": null,
      "outputs": [
        {
          "output_type": "execute_result",
          "data": {
            "text/plain": [
              "[10.0, 20.0, 30.0, 40.0, 50.0]"
            ]
          },
          "metadata": {},
          "execution_count": 108
        }
      ]
    },
    {
      "cell_type": "code",
      "source": [
        "# Now, instead of list we want to store it in a tuple.\n",
        "e = tuple(map(float, b))\n",
        "e"
      ],
      "metadata": {
        "colab": {
          "base_uri": "https://localhost:8080/"
        },
        "id": "w5drMS_5DOsR",
        "outputId": "0e147861-341c-4dd2-e277-91b3e0d4b345"
      },
      "execution_count": null,
      "outputs": [
        {
          "output_type": "execute_result",
          "data": {
            "text/plain": [
              "(10.0, 20.0, 30.0, 40.0, 50.0)"
            ]
          },
          "metadata": {},
          "execution_count": 109
        }
      ]
    },
    {
      "cell_type": "code",
      "source": [
        "# What about set? Yes, we can also do that.\n",
        "f = set(map(float, b))\n",
        "f"
      ],
      "metadata": {
        "colab": {
          "base_uri": "https://localhost:8080/"
        },
        "id": "mCVA5rfcDlW9",
        "outputId": "b3d887e8-c3ff-47fd-a25e-e87c9110acf2"
      },
      "execution_count": null,
      "outputs": [
        {
          "output_type": "execute_result",
          "data": {
            "text/plain": [
              "{10.0, 20.0, 30.0, 40.0, 50.0}"
            ]
          },
          "metadata": {},
          "execution_count": 110
        }
      ]
    },
    {
      "cell_type": "code",
      "source": [
        "# Furthermore, at times we may require to store all these elements under different variables.\n",
        "g,h,i,j,k = list(map(int, b))\n",
        "print(\"G:\",g)\n",
        "print(\"H:\", h)\n",
        "print(\"I:\", i)\n",
        "print(\"J:\", j)\n",
        "print(\"K:\", k)"
      ],
      "metadata": {
        "colab": {
          "base_uri": "https://localhost:8080/"
        },
        "id": "WPdkw54EEHtE",
        "outputId": "564fb145-0567-486b-d2c6-29eb9b25cd50"
      },
      "execution_count": null,
      "outputs": [
        {
          "output_type": "stream",
          "name": "stdout",
          "text": [
            "G: 10\n",
            "H: 20\n",
            "I: 30\n",
            "J: 40\n",
            "K: 50\n"
          ]
        }
      ]
    }
  ]
}