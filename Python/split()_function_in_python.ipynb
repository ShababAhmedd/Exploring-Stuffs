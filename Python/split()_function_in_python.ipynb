{
  "nbformat": 4,
  "nbformat_minor": 0,
  "metadata": {
    "colab": {
      "provenance": []
    },
    "kernelspec": {
      "name": "python3",
      "display_name": "Python 3"
    },
    "language_info": {
      "name": "python"
    }
  },
  "cells": [
    {
      "cell_type": "code",
      "source": [
        "# split() --> this function breaks up a string with the specific parameter passed and returns a list of strings without that parameter.\n",
        "# if no parameters are passed then it will split the function based on space."
      ],
      "metadata": {
        "id": "luefHu2MFXw_"
      },
      "execution_count": null,
      "outputs": []
    },
    {
      "cell_type": "code",
      "execution_count": 2,
      "metadata": {
        "colab": {
          "base_uri": "https://localhost:8080/"
        },
        "id": "JD-fUhpLFEi6",
        "outputId": "dea1b0fc-522e-4810-84cf-8323d8db0860"
      },
      "outputs": [
        {
          "output_type": "execute_result",
          "data": {
            "text/plain": [
              "['I', 'want', 'to', 'become', 'python', 'programmer.']"
            ]
          },
          "metadata": {},
          "execution_count": 2
        }
      ],
      "source": [
        "msg = \"I want to become python programmer.\"\n",
        "msg.split()"
      ]
    },
    {
      "cell_type": "code",
      "source": [
        "country = \"Bangladesh, India, Pakistan, Srilanka, Thailand, Japan, China\"\n",
        "print(country.split(\",\"))"
      ],
      "metadata": {
        "colab": {
          "base_uri": "https://localhost:8080/"
        },
        "id": "33kZjK51GnKi",
        "outputId": "6d1246a8-475a-467a-d7e4-96a90c460dbb"
      },
      "execution_count": 12,
      "outputs": [
        {
          "output_type": "stream",
          "name": "stdout",
          "text": [
            "['Bangladesh', ' India', ' Pakistan', ' Srilanka', ' Thailand', ' Japan', ' China']\n"
          ]
        }
      ]
    },
    {
      "cell_type": "code",
      "source": [
        "print(country.split(\",\",3)) #the second parameter dictates how many splits the funcion should do. If untouched it will split everything."
      ],
      "metadata": {
        "colab": {
          "base_uri": "https://localhost:8080/"
        },
        "id": "FD4WkPzGHVf-",
        "outputId": "3a3b648a-d53f-4fde-8d2a-7678801de132"
      },
      "execution_count": 15,
      "outputs": [
        {
          "output_type": "stream",
          "name": "stdout",
          "text": [
            "['Bangladesh', ' India', ' Pakistan', ' Srilanka, Thailand, Japan, China']\n"
          ]
        }
      ]
    }
  ]
}
