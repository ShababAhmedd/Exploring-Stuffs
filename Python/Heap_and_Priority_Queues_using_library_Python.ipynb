{
  "nbformat": 4,
  "nbformat_minor": 0,
  "metadata": {
    "colab": {
      "provenance": [],
      "authorship_tag": "ABX9TyNXa9vSpXxTUdpOAeAa68E9",
      "include_colab_link": true
    },
    "kernelspec": {
      "name": "python3",
      "display_name": "Python 3"
    },
    "language_info": {
      "name": "python"
    }
  },
  "cells": [
    {
      "cell_type": "markdown",
      "metadata": {
        "id": "view-in-github",
        "colab_type": "text"
      },
      "source": [
        "<a href=\"https://colab.research.google.com/github/ShababAhmedd/Exploring-Stuffs/blob/main/Python/Heap_and_Priority_Queues_using_library_Python.ipynb\" target=\"_parent\"><img src=\"https://colab.research.google.com/assets/colab-badge.svg\" alt=\"Open In Colab\"/></a>"
      ]
    },
    {
      "cell_type": "code",
      "execution_count": null,
      "metadata": {
        "id": "nSYZUCj_t275"
      },
      "outputs": [],
      "source": [
        "# Priority Queue is a data structure that always gives us the element with the highest priority (i.e the lowest number).\n",
        "import heapq as pq"
      ]
    },
    {
      "cell_type": "code",
      "source": [
        "data = [10, 20, 43, 1, 2, 65, 17, 44, 2, 3, 1]\n",
        "pq.heapify(data)\n",
        "print(data)\n"
      ],
      "metadata": {
        "colab": {
          "base_uri": "https://localhost:8080/"
        },
        "id": "bNfPLN_V9Iuw",
        "outputId": "34cc6a90-b79e-4c10-dce3-271e17d9bc55"
      },
      "execution_count": null,
      "outputs": [
        {
          "output_type": "stream",
          "name": "stdout",
          "text": [
            "[1, 1, 17, 2, 2, 65, 43, 44, 10, 3, 20]\n"
          ]
        }
      ]
    },
    {
      "cell_type": "code",
      "source": [
        "'''\n",
        "i -----> root\n",
        "2*i+1 -> 1st child\n",
        "2*i+2 -> 2nd child\n",
        " \n",
        "\n",
        "          1\n",
        "        /    \\\n",
        "       1     17\n",
        "      /\\      /\\\n",
        "     2  2    65 43\n",
        "    /\\  /\\   /\\  /\\\n",
        "    \n",
        "'''"
      ],
      "metadata": {
        "colab": {
          "base_uri": "https://localhost:8080/",
          "height": 74
        },
        "id": "5_gZo_2qCA05",
        "outputId": "2ad2ae95-e450-4fff-b519-360117cc5fe0"
      },
      "execution_count": null,
      "outputs": [
        {
          "output_type": "execute_result",
          "data": {
            "text/plain": [
              "'\\ni -----> root\\n2*i+1 -> 1st child\\n2*i+2 -> 2nd child\\n \\n\\n          1\\n        /           1     17\\n      /\\\\      /     2  2    65 43\\n    /\\\\  /\\\\   /\\\\  /    \\n'"
            ],
            "application/vnd.google.colaboratory.intrinsic+json": {
              "type": "string"
            }
          },
          "metadata": {},
          "execution_count": 78
        }
      ]
    },
    {
      "cell_type": "code",
      "source": [
        " # Popping out the elements from heap.\n",
        " x = pq.heappop(data) \n",
        "print(x) # Output will be based on highest priority i.e. lowest values."
      ],
      "metadata": {
        "colab": {
          "base_uri": "https://localhost:8080/"
        },
        "id": "Y1riv9q8AKwJ",
        "outputId": "b13431e3-c79b-4081-cfe7-6a27ebd344f5"
      },
      "execution_count": null,
      "outputs": [
        {
          "output_type": "stream",
          "name": "stdout",
          "text": [
            "1\n"
          ]
        }
      ]
    },
    {
      "cell_type": "code",
      "source": [
        "# Adding values to the heap.\n",
        "y = pq.heappush(data, 0)\n",
        "print(data)\n",
        "pq.heappush()"
      ],
      "metadata": {
        "colab": {
          "base_uri": "https://localhost:8080/"
        },
        "id": "B-wU_TRXBYCx",
        "outputId": "0fc12fcd-b3ac-4f8b-f527-5adaeb9e197e"
      },
      "execution_count": null,
      "outputs": [
        {
          "output_type": "stream",
          "name": "stdout",
          "text": [
            "[0, 1, 17, 2, 2, 65, 43, 44, 10, 20, 3]\n"
          ]
        }
      ]
    },
    {
      "cell_type": "code",
      "source": [
        "# By default, these all are min heap."
      ],
      "metadata": {
        "id": "41QbFpsPC2QF"
      },
      "execution_count": null,
      "outputs": []
    },
    {
      "cell_type": "code",
      "source": [
        "# Implementing max heap. \n",
        "max = [-x for x in data]\n",
        "print(max)\n",
        "\n",
        "z = pq.heapify(max)\n",
        "print(\"After applying heap: \",max)\n",
        "\n",
        "max_result = [-x for x in max]\n",
        "print(max_result)"
      ],
      "metadata": {
        "colab": {
          "base_uri": "https://localhost:8080/"
        },
        "id": "BQf1eBNrDQvc",
        "outputId": "cef129d6-201a-4b4f-fe39-cfa0ff623f95"
      },
      "execution_count": null,
      "outputs": [
        {
          "output_type": "stream",
          "name": "stdout",
          "text": [
            "[0, -1, -17, -2, -2, -65, -43, -44, -10, -20, -3]\n",
            "After applying heap:  [-65, -44, -43, -10, -20, -17, 0, -2, -1, -2, -3]\n",
            "[65, 44, 43, 10, 20, 17, 0, 2, 1, 2, 3]\n"
          ]
        }
      ]
    },
    {
      "cell_type": "code",
      "source": [
        "# Merging two different lists and heapifying.\n",
        "l1 = [10, 20, 30, 40, 50]\n",
        "l2 = [15, 25, 35, 45, 55]\n",
        "b = pq.merge(l1, l2)\n",
        "c = list(b)\n",
        "print(c)"
      ],
      "metadata": {
        "colab": {
          "base_uri": "https://localhost:8080/"
        },
        "id": "MVpO_EvVEoVI",
        "outputId": "b153f583-7f0b-4052-8aed-e273cce3e14f"
      },
      "execution_count": null,
      "outputs": [
        {
          "output_type": "stream",
          "name": "stdout",
          "text": [
            "[10, 15, 20, 25, 30, 35, 40, 45, 50, 55]\n"
          ]
        }
      ]
    }
  ]
}