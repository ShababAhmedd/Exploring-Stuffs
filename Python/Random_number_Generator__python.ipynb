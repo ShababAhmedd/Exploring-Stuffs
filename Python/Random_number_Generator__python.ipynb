{
  "nbformat": 4,
  "nbformat_minor": 0,
  "metadata": {
    "colab": {
      "provenance": [],
      "authorship_tag": "ABX9TyPEdPO5QIZZgxV+z+BuM0Yu",
      "include_colab_link": true
    },
    "kernelspec": {
      "name": "python3",
      "display_name": "Python 3"
    },
    "language_info": {
      "name": "python"
    }
  },
  "cells": [
    {
      "cell_type": "markdown",
      "metadata": {
        "id": "view-in-github",
        "colab_type": "text"
      },
      "source": [
        "<a href=\"https://colab.research.google.com/github/ShababAhmedd/Exploring-Stuffs/blob/main/Python/Random_number_Generator__python.ipynb\" target=\"_parent\"><img src=\"https://colab.research.google.com/assets/colab-badge.svg\" alt=\"Open In Colab\"/></a>"
      ]
    },
    {
      "cell_type": "code",
      "source": [
        "import random"
      ],
      "metadata": {
        "id": "I5mIixNYiEFy"
      },
      "execution_count": 21,
      "outputs": []
    },
    {
      "cell_type": "code",
      "execution_count": 10,
      "metadata": {
        "colab": {
          "base_uri": "https://localhost:8080/"
        },
        "id": "w33LiuzEd3H_",
        "outputId": "2d501ae6-0c7e-4a9d-cbab-e365ebe17b0f"
      },
      "outputs": [
        {
          "output_type": "stream",
          "name": "stdout",
          "text": [
            "0.8291773082740769\n"
          ]
        }
      ],
      "source": [
        "# This method generates random values between 0 and 1.\n",
        "# Every time we run this very shell we will be getting random floating values.\n",
        "# Here, 0 is inclusive but 1 is not inclusive which means we can get an exact value of zero but we can not get an\n",
        "# exact value of 1. At best we can get 0.99999 but never all the way upto 1.\n",
        "\n",
        "val = random.random()\n",
        "print(val)"
      ]
    },
    {
      "cell_type": "code",
      "source": [
        "# What uniform does is it specifies the range to generate random values. \n",
        "# For this scenario, the range is passed from 1-10.\n",
        "# So everytime we run this, we will always be getting radom floating numbers which will be within the range of 1-10.\n",
        "\n",
        "val = random.uniform(1, 10)\n",
        "print(val)"
      ],
      "metadata": {
        "colab": {
          "base_uri": "https://localhost:8080/"
        },
        "id": "Ghqq3TO8ggG4",
        "outputId": "43e9fa2a-9f7b-4363-8131-5c2888681e11"
      },
      "execution_count": 20,
      "outputs": [
        {
          "output_type": "stream",
          "name": "stdout",
          "text": [
            "7.454786486834921\n"
          ]
        }
      ]
    },
    {
      "cell_type": "code",
      "source": [
        "# randINT as the name suggests, it will be generting random integers and the arguments passed will be inclusive.\n",
        "\n",
        "val = random.randint(1, 10)\n",
        "print(val)"
      ],
      "metadata": {
        "colab": {
          "base_uri": "https://localhost:8080/"
        },
        "id": "WRAdSZQEiKNP",
        "outputId": "045b8621-6ca8-4a94-f1aa-0aa0831c6137"
      },
      "execution_count": 26,
      "outputs": [
        {
          "output_type": "stream",
          "name": "stdout",
          "text": [
            "10\n"
          ]
        }
      ]
    },
    {
      "cell_type": "code",
      "source": [
        "# Choice function picks an element randomly from a data structure and outputs it.\n",
        " \n",
        "greetings = [\"Hello!\", \"Hi\", \"Hey!\", \"Howdy\", \"Hola\"]\n",
        "val = random.choice(greetings)\n",
        "print(val + \" Shabab...\")"
      ],
      "metadata": {
        "colab": {
          "base_uri": "https://localhost:8080/"
        },
        "id": "1LCZLCM_i80i",
        "outputId": "48aad0dd-2eec-42e6-c616-ff7cdd9f570c"
      },
      "execution_count": 31,
      "outputs": [
        {
          "output_type": "stream",
          "name": "stdout",
          "text": [
            "Howdy Shabab...\n"
          ]
        }
      ]
    },
    {
      "cell_type": "code",
      "source": [
        "colours = [\"red\", \"black\", \"green\"]\n",
        "val = random.choices(colours, weights = [18, 18, 2], k = 10)   \n",
        "# k is how many times we want to pick a random value and store them within a list.\n",
        "print(val)\n",
        "\n",
        "# 18 + 18 + 2 = 38\n",
        "# Red has an 18 out of 36 chance of being randomly selected.\n",
        "# Black has an 18 out of 36 chance of being randomly selected.\n",
        "# But, \n",
        "# Green has an 2 out of 36 chance of being randomly selected."
      ],
      "metadata": {
        "colab": {
          "base_uri": "https://localhost:8080/"
        },
        "id": "RIuuDAFoj6Va",
        "outputId": "7df788b0-362f-433c-985d-85ae6710d37d"
      },
      "execution_count": 33,
      "outputs": [
        {
          "output_type": "stream",
          "name": "stdout",
          "text": [
            "['red', 'black', 'red', 'black', 'black', 'black', 'black', 'black', 'red', 'red']\n"
          ]
        }
      ]
    },
    {
      "cell_type": "code",
      "source": [
        "# Let's see how we can randomly shuffle a list of values. \n",
        "# say we have a deck of cards i.e. 52 cards.\n",
        "\n",
        "deck = list(range(1, 53)) # Here, 53 is non-inclusive. \n",
        "print(\"Deck of Cards: \",deck)\n",
        "print()\n",
        "# the range function generates numbers from 1-52 which with the help of list functinn we are storing them within a list.\n",
        "\n",
        "random.shuffle(deck)    # we need to pass in the list we want to shuffle.\n",
        "print(\"After applying the shuffle function, the list looks like: \", deck)\n",
        "print()\n",
        "# shuffle function shuffles the list in place. \n",
        "\n",
        "# Now say we want to get 5 random unique cards from this deck.\n",
        "# Can not use the choice function because it could randomly grab the same number multiple times.\n",
        "\n",
        "#sample function makes sure that it only grabs unique cards from the sequence with no repetation.\n",
        "hand = random.sample(deck, k=5)     # k is the number of cards we want to get.\n",
        "print(\"Picking 5 random cards from the deck\", hand)"
      ],
      "metadata": {
        "colab": {
          "base_uri": "https://localhost:8080/"
        },
        "id": "ils1z5GPmAZj",
        "outputId": "3670eec5-532b-4a6a-8cd7-5ebfacddd038"
      },
      "execution_count": 42,
      "outputs": [
        {
          "output_type": "stream",
          "name": "stdout",
          "text": [
            "Deck of Cards:  [1, 2, 3, 4, 5, 6, 7, 8, 9, 10, 11, 12, 13, 14, 15, 16, 17, 18, 19, 20, 21, 22, 23, 24, 25, 26, 27, 28, 29, 30, 31, 32, 33, 34, 35, 36, 37, 38, 39, 40, 41, 42, 43, 44, 45, 46, 47, 48, 49, 50, 51, 52]\n",
            "\n",
            "After applying the shuffle function, the list looks like:  [22, 3, 35, 52, 40, 51, 19, 46, 36, 28, 33, 38, 10, 37, 25, 31, 42, 29, 43, 15, 49, 30, 39, 14, 20, 13, 5, 7, 47, 45, 12, 21, 8, 2, 48, 1, 23, 34, 11, 50, 26, 32, 4, 18, 27, 9, 44, 24, 6, 16, 41, 17]\n",
            "\n",
            "Picking 5 random cards from the deck [8, 22, 48, 36, 37]\n"
          ]
          {https://www.youtube.com/watch?v=KzqSDvzOFNA&t=1s
        }
        }
      ]
    }
  ]
}
