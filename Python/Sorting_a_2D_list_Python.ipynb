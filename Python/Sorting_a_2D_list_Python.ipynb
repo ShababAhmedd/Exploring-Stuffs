{
  "nbformat": 4,
  "nbformat_minor": 0,
  "metadata": {
    "colab": {
      "provenance": [],
      "authorship_tag": "ABX9TyPFFhJNwq+It0nX84vaZKTd",
      "include_colab_link": true
    },
    "kernelspec": {
      "name": "python3",
      "display_name": "Python 3"
    },
    "language_info": {
      "name": "python"
    }
  },
  "cells": [
    {
      "cell_type": "markdown",
      "metadata": {
        "id": "view-in-github",
        "colab_type": "text"
      },
      "source": [
        "<a href=\"https://colab.research.google.com/github/ShababAhmedd/Exploring-Stuffs/blob/main/Python/Sorting_a_2D_list_Python.ipynb\" target=\"_parent\"><img src=\"https://colab.research.google.com/assets/colab-badge.svg\" alt=\"Open In Colab\"/></a>"
      ]
    },
    {
      "cell_type": "code",
      "execution_count": null,
      "metadata": {
        "colab": {
          "base_uri": "https://localhost:8080/"
        },
        "id": "NRJBsy1kHS-L",
        "outputId": "feac209e-d4c0-46f2-d30e-773da45a2a55"
      },
      "outputs": [
        {
          "output_type": "execute_result",
          "data": {
            "text/plain": [
              "[['Mashrur', 3], ['Safir', 2], ['Shabab', 1], ['Ahmed', 4]]"
            ]
          },
          "metadata": {},
          "execution_count": 6
        }
      ],
      "source": [
        "arr = [[\"Mashrur\", 3],\n",
        "       [\"Safir\", 2],\n",
        "       [\"Shabab\", 1],\n",
        "       [\"Ahmed\", 4]]\n",
        "arr"
      ]
    },
    {
      "cell_type": "code",
      "source": [
        "arr.sort(key = lambda x: x[1]) # -->\n",
        "arr         # \"x[1]\" here represents the index number through which we want to sort the 2D array.\""
      ],
      "metadata": {
        "colab": {
          "base_uri": "https://localhost:8080/"
        },
        "id": "Sw8QsdWzIktZ",
        "outputId": "acdc910e-d711-48e1-d75b-04db830fd981"
      },
      "execution_count": null,
      "outputs": [
        {
          "output_type": "execute_result",
          "data": {
            "text/plain": [
              "[['Shabab', 1], ['Safir', 2], ['Mashrur', 3], ['Ahmed', 4]]"
            ]
          },
          "metadata": {},
          "execution_count": 7
        }
      ]
    }
  ]
}