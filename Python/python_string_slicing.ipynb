{
  "nbformat": 4,
  "nbformat_minor": 0,
  "metadata": {
    "colab": {
      "provenance": [],
      "authorship_tag": "ABX9TyNqRKoUmvDbrRIPQ/BKxg54",
      "include_colab_link": true
    },
    "kernelspec": {
      "name": "python3",
      "display_name": "Python 3"
    },
    "language_info": {
      "name": "python"
    }
  },
  "cells": [
    {
      "cell_type": "markdown",
      "metadata": {
        "id": "view-in-github",
        "colab_type": "text"
      },
      "source": [
        "<a href=\"https://colab.research.google.com/github/ShababAhmedd/Exploring-Stuffs/blob/main/Python/python_string_slicing.ipynb\" target=\"_parent\"><img src=\"https://colab.research.google.com/assets/colab-badge.svg\" alt=\"Open In Colab\"/></a>"
      ]
    },
    {
      "cell_type": "code",
      "source": [
        "# slicing is the process of creating a sub-string by extracting elements from another string.\n",
        "# There are two methods:\n",
        "#  a)indexing[]\n",
        "#  b)slice"
      ],
      "metadata": {
        "id": "7vykPYoKqvdy"
      },
      "execution_count": 45,
      "outputs": []
    },
    {
      "cell_type": "code",
      "source": [
        "#       indexing[]\n",
        "#               ||\n",
        "#        [start:stop:step]\n",
        "\n",
        "# step is an optional field which dictates how much we are increasing our index by between starting and ending. \n",
        "# By default, i.e. if we dont set any value for it; it is 1."
      ],
      "metadata": {
        "id": "-oJJcckNra2r"
      },
      "execution_count": 46,
      "outputs": []
    },
    {
      "cell_type": "code",
      "execution_count": 47,
      "metadata": {
        "colab": {
          "base_uri": "https://localhost:8080/"
        },
        "id": "f1-LE83oqeD0",
        "outputId": "c4d22c4f-8976-403f-a374-a6fbc99cbd31"
      },
      "outputs": [
        {
          "output_type": "stream",
          "name": "stdout",
          "text": [
            "Mashrur\n"
          ]
        }
      ],
      "source": [
        "name = \"Mashrur Safir Shabab\"\n",
        "first_name = name[:7]\n",
        "print(first_name)"
      ]
    },
    {
      "cell_type": "code",
      "source": [
        "last_name = name[14:]\n",
        "print(last_name)"
      ],
      "metadata": {
        "colab": {
          "base_uri": "https://localhost:8080/"
        },
        "id": "1KICKhOCsUOg",
        "outputId": "0df9d29f-5ba3-4d79-d07a-85cbae3f3b5a"
      },
      "execution_count": 48,
      "outputs": [
        {
          "output_type": "stream",
          "name": "stdout",
          "text": [
            "Shabab\n"
          ]
        }
      ]
    },
    {
      "cell_type": "code",
      "source": [
        "# If we set the value of step to 2, then only the value of the second character will be counted.  \n",
        "\n",
        "funky_name = name[::2]\n",
        "print(funky_name)\n",
        "\n",
        "# Here, we left the starting index empty. For this, python assumes it to be 0.\n",
        "# Also, the stopping index was left empty which also python assumes it to be the very end of the string."
      ],
      "metadata": {
        "id": "Ni65ASTvtF9M",
        "colab": {
          "base_uri": "https://localhost:8080/"
        },
        "outputId": "7274518e-eef0-4a21-9a95-4c500348acca"
      },
      "execution_count": 49,
      "outputs": [
        {
          "output_type": "stream",
          "name": "stdout",
          "text": [
            "MsrrSfrSaa\n"
          ]
        }
      ]
    },
    {
      "cell_type": "code",
      "source": [
        "# Reversing a string.\n",
        "\n",
        "reversed_name = name[::-1]\n",
        "print(reversed_name) \n",
        "\n",
        "# This is like counting backwards and creating a new string based on the variable name but in reverse."
      ],
      "metadata": {
        "colab": {
          "base_uri": "https://localhost:8080/"
        },
        "id": "gqMCgvVcxAWG",
        "outputId": "2ff8b1c6-b396-434e-877a-38877dd14c5e"
      },
      "execution_count": 50,
      "outputs": [
        {
          "output_type": "stream",
          "name": "stdout",
          "text": [
            "babahS rifaS rurhsaM\n"
          ]
        }
      ]
    },
    {
      "cell_type": "code",
      "source": [
        "########################\n",
        "#### Slice Function ####\n",
        "#######################"
      ],
      "metadata": {
        "id": "sIU211TbxlPk"
      },
      "execution_count": 51,
      "outputs": []
    },
    {
      "cell_type": "code",
      "source": [
        "website1 = \"https://www.google.com\"\n",
        "website2 = \"https://www.facebook.com\"\n",
        "website3 = \"https://www.instagram.com\""
      ],
      "metadata": {
        "id": "T0T0PzjXx5JL"
      },
      "execution_count": 52,
      "outputs": []
    },
    {
      "cell_type": "code",
      "source": [
        "Slice = slice(12,-4)      # Indexing here works like the same way except that here we have to use a comma instead\n",
        "                          # of colon."
      ],
      "metadata": {
        "id": "909PH5UWzrzx"
      },
      "execution_count": 53,
      "outputs": []
    },
    {
      "cell_type": "code",
      "source": [
        "x = website1[Slice]\n",
        "print(x)\n",
        "\n",
        "y = website2[Slice]\n",
        "print(y)\n",
        "\n",
        "z = website3[Slice]\n",
        "print(z)"
      ],
      "metadata": {
        "colab": {
          "base_uri": "https://localhost:8080/"
        },
        "id": "ryFNVNQKzulq",
        "outputId": "59dfcf34-2150-4b78-8be4-573710c08081"
      },
      "execution_count": 54,
      "outputs": [
        {
          "output_type": "stream",
          "name": "stdout",
          "text": [
            "google\n",
            "facebook\n",
            "instagram\n"
          ]
        }
      ]
    }
  ]
}