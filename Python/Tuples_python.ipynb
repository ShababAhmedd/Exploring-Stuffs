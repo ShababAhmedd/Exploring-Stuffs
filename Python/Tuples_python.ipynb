{
  "nbformat": 4,
  "nbformat_minor": 0,
  "metadata": {
    "colab": {
      "provenance": [],
      "authorship_tag": "ABX9TyNSadaIm3rs7wvgx53taIy/",
      "include_colab_link": true
    },
    "kernelspec": {
      "name": "python3",
      "display_name": "Python 3"
    },
    "language_info": {
      "name": "python"
    }
  },
  "cells": [
    {
      "cell_type": "markdown",
      "metadata": {
        "id": "view-in-github",
        "colab_type": "text"
      },
      "source": [
        "<a href=\"https://colab.research.google.com/github/ShababAhmedd/Exploring-Stuffs/blob/main/Python/Tuples_python.ipynb\" target=\"_parent\"><img src=\"https://colab.research.google.com/assets/colab-badge.svg\" alt=\"Open In Colab\"/></a>"
      ]
    },
    {
      "cell_type": "code",
      "execution_count": 2,
      "metadata": {
        "id": "QHLL-UfU-ZNo"
      },
      "outputs": [],
      "source": [
        "# Tuples are immutable.\n",
        "tup = (1,2,3,4,5,6)"
      ]
    },
    {
      "cell_type": "code",
      "source": [
        "# Now lets accessing the elements.\n",
        "a = tup[0]\n",
        "print(\"The first element of the tuple:\",a)"
      ],
      "metadata": {
        "colab": {
          "base_uri": "https://localhost:8080/"
        },
        "id": "hRf2UfAd-x9V",
        "outputId": "ef437694-a68a-45ba-e29c-1293357ff87a"
      },
      "execution_count": 5,
      "outputs": [
        {
          "output_type": "stream",
          "name": "stdout",
          "text": [
            "The first element of the tuple: 1\n"
          ]
        }
      ]
    },
    {
      "cell_type": "code",
      "source": [
        "# Inspite of knowing that tuples are immutable, what if we try to change one of its elements?\n",
        "tup[0] = \"x\"\n",
        "print(\"Tuple:\",tup)"
      ],
      "metadata": {
        "colab": {
          "base_uri": "https://localhost:8080/",
          "height": 215
        },
        "id": "oR0U2yJG_lhs",
        "outputId": "a9339861-a757-4c3b-cdd3-0626a4a98de3"
      },
      "execution_count": 4,
      "outputs": [
        {
          "output_type": "error",
          "ename": "TypeError",
          "evalue": "ignored",
          "traceback": [
            "\u001b[0;31m---------------------------------------------------------------------------\u001b[0m",
            "\u001b[0;31mTypeError\u001b[0m                                 Traceback (most recent call last)",
            "\u001b[0;32m<ipython-input-4-1ec359520d4b>\u001b[0m in \u001b[0;36m<module>\u001b[0;34m\u001b[0m\n\u001b[1;32m      1\u001b[0m \u001b[0;31m# Inspite of knowing that tuples are immutable, what if we try to change one of its elements?\u001b[0m\u001b[0;34m\u001b[0m\u001b[0;34m\u001b[0m\u001b[0;34m\u001b[0m\u001b[0m\n\u001b[0;32m----> 2\u001b[0;31m \u001b[0mtup\u001b[0m\u001b[0;34m[\u001b[0m\u001b[0;36m0\u001b[0m\u001b[0;34m]\u001b[0m \u001b[0;34m=\u001b[0m \u001b[0;34m\"x\"\u001b[0m\u001b[0;34m\u001b[0m\u001b[0;34m\u001b[0m\u001b[0m\n\u001b[0m\u001b[1;32m      3\u001b[0m \u001b[0mprint\u001b[0m\u001b[0;34m(\u001b[0m\u001b[0;34m\"Tuple:\"\u001b[0m\u001b[0;34m,\u001b[0m\u001b[0mtup\u001b[0m\u001b[0;34m)\u001b[0m\u001b[0;34m\u001b[0m\u001b[0;34m\u001b[0m\u001b[0m\n",
            "\u001b[0;31mTypeError\u001b[0m: 'tuple' object does not support item assignment"
          ]
        }
      ]
    },
    {
      "cell_type": "code",
      "source": [
        "# Even though tuples are like list but here we do not have any methods which will replace or appennd the values due \n",
        "# to it's very property i.e. immutability.\n",
        "# Since, we do not or can not change value on tuple so iteration are faster here compared to list."
      ],
      "metadata": {
        "id": "LHPcecdz_4Pz"
      },
      "execution_count": null,
      "outputs": []
    }
  ]
}