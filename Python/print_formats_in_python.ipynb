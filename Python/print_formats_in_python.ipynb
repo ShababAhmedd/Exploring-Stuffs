{
  "nbformat": 4,
  "nbformat_minor": 0,
  "metadata": {
    "colab": {
      "provenance": []
    },
    "kernelspec": {
      "name": "python3",
      "display_name": "Python 3"
    },
    "language_info": {
      "name": "python"
    }
  },
  "cells": [
    {
      "cell_type": "code",
      "source": [
        "name = \"Mashrur\"\n",
        "result = f\"Hello, this is {name}\"\n",
        "print(result)"
      ],
      "metadata": {
        "colab": {
          "base_uri": "https://localhost:8080/"
        },
        "id": "WO7epbq5Wd4Z",
        "outputId": "c0d10e72-ec35-40e4-8fbb-b140ddbaab1e"
      },
      "execution_count": 5,
      "outputs": [
        {
          "output_type": "stream",
          "name": "stdout",
          "text": [
            "Hello, this is Mashrur\n"
          ]
        }
      ]
    },
    {
      "cell_type": "code",
      "execution_count": 4,
      "metadata": {
        "colab": {
          "base_uri": "https://localhost:8080/"
        },
        "id": "J2ZdvhXUVfXg",
        "outputId": "b68b96af-83d9-4e30-fcf4-2386aa0e73b7"
      },
      "outputs": [
        {
          "output_type": "stream",
          "name": "stdout",
          "text": [
            "Hello, this is Shabab\n"
          ]
        }
      ],
      "source": [
        "name = \"Shabab\"\n",
        "result = \"Hello, this is {}\".format(name)\n",
        "print(result)"
      ]
    }
  ]
}
