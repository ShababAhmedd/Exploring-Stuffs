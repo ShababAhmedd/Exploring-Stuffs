{
  "nbformat": 4,
  "nbformat_minor": 0,
  "metadata": {
    "colab": {
      "provenance": []
    },
    "kernelspec": {
      "name": "python3",
      "display_name": "Python 3"
    },
    "language_info": {
      "name": "python"
    }
  },
  "cells": [
    {
      "cell_type": "code",
      "execution_count": 14,
      "metadata": {
        "id": "QYGyeSL98gau"
      },
      "outputs": [],
      "source": [
        "# \"strip()\" --> this function removes characters only from the left and right side.(ignores the middle). \n",
        "#Also, is used in removing spaces."
      ]
    },
    {
      "cell_type": "code",
      "source": [
        "w = \"!!!!!!hello!!!!!!!!\"\n",
        "w.strip(\"!\")      # removes whatever parameter is passed."
      ],
      "metadata": {
        "colab": {
          "base_uri": "https://localhost:8080/",
          "height": 37
        },
        "id": "-PoHE2s7-x0k",
        "outputId": "ab4aa749-ec3d-4cf0-9674-9b4507fe1c58"
      },
      "execution_count": 15,
      "outputs": [
        {
          "output_type": "execute_result",
          "data": {
            "text/plain": [
              "'hello'"
            ],
            "application/vnd.google.colaboratory.intrinsic+json": {
              "type": "string"
            }
          },
          "metadata": {},
          "execution_count": 15
        }
      ]
    },
    {
      "cell_type": "code",
      "source": [
        "x = \"aaaaahelloaaaaahelloaaaaa\"\n",
        "x.strip(\"a\")"
      ],
      "metadata": {
        "colab": {
          "base_uri": "https://localhost:8080/",
          "height": 37
        },
        "id": "-igSZ_yE_RRf",
        "outputId": "de08af8d-2736-43a5-c10e-b9661cb218e0"
      },
      "execution_count": 16,
      "outputs": [
        {
          "output_type": "execute_result",
          "data": {
            "text/plain": [
              "'helloaaaaahello'"
            ],
            "application/vnd.google.colaboratory.intrinsic+json": {
              "type": "string"
            }
          },
          "metadata": {},
          "execution_count": 16
        }
      ]
    },
    {
      "cell_type": "code",
      "source": [
        "y = \"!!!!!hello!!!!!\"\n",
        "y.lstrip(\"!\")     # strips only the left side  "
      ],
      "metadata": {
        "colab": {
          "base_uri": "https://localhost:8080/",
          "height": 37
        },
        "id": "ayDX84EK_pIi",
        "outputId": "d7d98474-8e91-4760-9c0f-c9f471b83d64"
      },
      "execution_count": 17,
      "outputs": [
        {
          "output_type": "execute_result",
          "data": {
            "text/plain": [
              "'hello!!!!!'"
            ],
            "application/vnd.google.colaboratory.intrinsic+json": {
              "type": "string"
            }
          },
          "metadata": {},
          "execution_count": 17
        }
      ]
    },
    {
      "cell_type": "code",
      "source": [
        "z = \"!!!!!hello!!!!!\"\n",
        "z.rstrip(\"!\")     # strips only the right side  "
      ],
      "metadata": {
        "colab": {
          "base_uri": "https://localhost:8080/",
          "height": 37
        },
        "id": "NRl2DGVO_-0z",
        "outputId": "67990ea6-daab-42c8-abda-843b3280b3b3"
      },
      "execution_count": 18,
      "outputs": [
        {
          "output_type": "execute_result",
          "data": {
            "text/plain": [
              "'!!!!!hello'"
            ],
            "application/vnd.google.colaboratory.intrinsic+json": {
              "type": "string"
            }
          },
          "metadata": {},
          "execution_count": 18
        }
      ]
    }
  ]
}
