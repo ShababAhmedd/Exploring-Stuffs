{
  "nbformat": 4,
  "nbformat_minor": 0,
  "metadata": {
    "colab": {
      "provenance": [],
      "authorship_tag": "ABX9TyONq1Is3hZ0mE4nLV1XS/ah",
      "include_colab_link": true
    },
    "kernelspec": {
      "name": "python3",
      "display_name": "Python 3"
    },
    "language_info": {
      "name": "python"
    }
  },
  "cells": [
    {
      "cell_type": "markdown",
      "metadata": {
        "id": "view-in-github",
        "colab_type": "text"
      },
      "source": [
        "<a href=\"https://colab.research.google.com/github/ShababAhmedd/Exploring-Stuffs/blob/main/Python/OOP/Class_and_objects.ipynb\" target=\"_parent\"><img src=\"https://colab.research.google.com/assets/colab-badge.svg\" alt=\"Open In Colab\"/></a>"
      ]
    },
    {
      "cell_type": "code",
      "execution_count": 3,
      "metadata": {
        "id": "B3ljKS91C69D"
      },
      "outputs": [],
      "source": [
        "# functions that are part of a class are reffered as methods."
      ]
    },
    {
      "cell_type": "code",
      "source": [
        "class Computer:\n",
        "\n",
        "  def config(self):\n",
        "    print(\"i5, 16gb, 1tb\")"
      ],
      "metadata": {
        "id": "tJU3mhu9RaNp"
      },
      "execution_count": 8,
      "outputs": []
    },
    {
      "cell_type": "code",
      "source": [
        "com1 = Computer()\n",
        "com2 = Computer()"
      ],
      "metadata": {
        "id": "6fQX9HFRRnxU"
      },
      "execution_count": 7,
      "outputs": []
    },
    {
      "cell_type": "code",
      "source": [
        "Computer.config(com1)\n",
        "Computer.config(com2)"
      ],
      "metadata": {
        "colab": {
          "base_uri": "https://localhost:8080/"
        },
        "id": "QHvVCy3_SoKE",
        "outputId": "177f6dc2-354c-4993-deaa-729654d99221"
      },
      "execution_count": 9,
      "outputs": [
        {
          "output_type": "stream",
          "name": "stdout",
          "text": [
            "i5, 16gb, 1tb\n",
            "i5, 16gb, 1tb\n"
          ]
        }
      ]
    },
    {
      "cell_type": "code",
      "source": [
        "# Usually these parameters are used to call a method instead of the one above.\n",
        "com1.config()\n",
        "com2.config()"
      ],
      "metadata": {
        "colab": {
          "base_uri": "https://localhost:8080/"
        },
        "id": "rRmyicmsSOcd",
        "outputId": "82568173-4d01-4e17-f2b0-251f9110b6b2"
      },
      "execution_count": 6,
      "outputs": [
        {
          "output_type": "stream",
          "name": "stdout",
          "text": [
            "i5, 16gb, 1tb\n",
            "i5, 16gb, 1tb\n"
          ]
        }
      ]
    }
  ]
}