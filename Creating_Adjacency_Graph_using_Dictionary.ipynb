{
  "nbformat": 4,
  "nbformat_minor": 0,
  "metadata": {
    "colab": {
      "provenance": [],
      "include_colab_link": true
    },
    "kernelspec": {
      "name": "python3",
      "display_name": "Python 3"
    },
    "language_info": {
      "name": "python"
    }
  },
  "cells": [
    {
      "cell_type": "markdown",
      "metadata": {
        "id": "view-in-github",
        "colab_type": "text"
      },
      "source": [
        "<a href=\"https://colab.research.google.com/github/ShababAhmedd/Exploring-Stuffs/blob/main/Creating_Adjacency_Graph_using_Dictionary.ipynb\" target=\"_parent\"><img src=\"https://colab.research.google.com/assets/colab-badge.svg\" alt=\"Open In Colab\"/></a>"
      ]
    },
    {
      "cell_type": "code",
      "source": [
        "# Mounting Google drive to access input and output files.\n",
        "from google.colab import drive\n",
        "drive.mount('/content/drive')"
      ],
      "metadata": {
        "colab": {
          "base_uri": "https://localhost:8080/"
        },
        "id": "tXxu5URvOwcF",
        "outputId": "3694f053-d94a-4eb9-b31e-44a155e4b06a"
      },
      "execution_count": null,
      "outputs": [
        {
          "output_type": "stream",
          "name": "stdout",
          "text": [
            "Drive already mounted at /content/drive; to attempt to forcibly remount, call drive.mount(\"/content/drive\", force_remount=True).\n"
          ]
        }
      ]
    },
    {
      "cell_type": "code",
      "execution_count": null,
      "metadata": {
        "id": "LrzLQz7gNL5Q"
      },
      "outputs": [],
      "source": [
        "# Opening both input and output files for reading and writing.\n",
        "input3 = open(\"/content/drive/MyDrive/cse221_lab/LAB4/Task03/input3_1.txt\",\"r\")\n",
        "output3 = open(\"/content/drive/MyDrive/cse221_lab/LAB4/Task03/output3.txt\",\"w\")"
      ]
    },
    {
      "cell_type": "code",
      "source": [
        "# Creating Adjacency Graph using dictionary.\n",
        "N,M = map(int,input3.readline().strip().split())\n",
        "#print(\"No. of Vertex: \",N)\n",
        "#print(\"No. of Edge: \",M)\n",
        "\n",
        "graph = {}\n",
        "counter = 0\n",
        "while counter < M:\n",
        "  u,v = map(int,input3.readline().strip().split())\n",
        "  if u in graph:\n",
        "    graph[u].append(v)\n",
        "  else:\n",
        "    graph[u] = [v]\n",
        "  counter += 1\n",
        "\n",
        "print(\"Adj. Graph: \", graph)"
      ],
      "metadata": {
        "colab": {
          "base_uri": "https://localhost:8080/"
        },
        "id": "dmXkHG9Vtigi",
        "outputId": "9208e025-c1db-4612-df7c-880645bc9a74"
      },
      "execution_count": null,
      "outputs": [
        {
          "output_type": "stream",
          "name": "stdout",
          "text": [
            "Adj. Graph:  {1: [3, 4], 3: [2]}\n"
          ]
        }
      ]
    }
  ]
}